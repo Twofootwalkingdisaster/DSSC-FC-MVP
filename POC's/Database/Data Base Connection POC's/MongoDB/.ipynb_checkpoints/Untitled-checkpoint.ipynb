{
 "cells": [
  {
   "cell_type": "code",
   "execution_count": 4,
   "id": "cf57079a",
   "metadata": {},
   "outputs": [],
   "source": [
    "# Importing the mongoclient, this library has the complete connection based functions and attributes\n",
    "from pymongo import MongoClient\n",
    "\n",
    "# Importing the mon"
   ]
  },
  {
   "cell_type": "code",
   "execution_count": 6,
   "id": "d056a9b5",
   "metadata": {},
   "outputs": [
    {
     "ename": "ConfigurationError",
     "evalue": "The DNS query name does not exist: _mongodb._tcp.cluster0.h8zw1nd.mongodb.net.",
     "output_type": "error",
     "traceback": [
      "\u001b[1;31m---------------------------------------------------------------------------\u001b[0m",
      "\u001b[1;31mNXDOMAIN\u001b[0m                                  Traceback (most recent call last)",
      "File \u001b[1;32mD:\\Anaconda\\lib\\site-packages\\pymongo\\srv_resolver.py:88\u001b[0m, in \u001b[0;36m_SrvResolver._resolve_uri\u001b[1;34m(self, encapsulate_errors)\u001b[0m\n\u001b[0;32m     87\u001b[0m \u001b[38;5;28;01mtry\u001b[39;00m:\n\u001b[1;32m---> 88\u001b[0m     results \u001b[38;5;241m=\u001b[39m \u001b[43m_resolve\u001b[49m\u001b[43m(\u001b[49m\u001b[38;5;124;43m'\u001b[39;49m\u001b[38;5;124;43m_mongodb._tcp.\u001b[39;49m\u001b[38;5;124;43m'\u001b[39;49m\u001b[43m \u001b[49m\u001b[38;5;241;43m+\u001b[39;49m\u001b[43m \u001b[49m\u001b[38;5;28;43mself\u001b[39;49m\u001b[38;5;241;43m.\u001b[39;49m\u001b[43m__fqdn\u001b[49m\u001b[43m,\u001b[49m\u001b[43m \u001b[49m\u001b[38;5;124;43m'\u001b[39;49m\u001b[38;5;124;43mSRV\u001b[39;49m\u001b[38;5;124;43m'\u001b[39;49m\u001b[43m,\u001b[49m\n\u001b[0;32m     89\u001b[0m \u001b[43m                       \u001b[49m\u001b[43mlifetime\u001b[49m\u001b[38;5;241;43m=\u001b[39;49m\u001b[38;5;28;43mself\u001b[39;49m\u001b[38;5;241;43m.\u001b[39;49m\u001b[43m__connect_timeout\u001b[49m\u001b[43m)\u001b[49m\n\u001b[0;32m     90\u001b[0m \u001b[38;5;28;01mexcept\u001b[39;00m \u001b[38;5;167;01mException\u001b[39;00m \u001b[38;5;28;01mas\u001b[39;00m exc:\n",
      "File \u001b[1;32mD:\\Anaconda\\lib\\site-packages\\pymongo\\srv_resolver.py:46\u001b[0m, in \u001b[0;36m_resolve\u001b[1;34m(*args, **kwargs)\u001b[0m\n\u001b[0;32m     44\u001b[0m \u001b[38;5;28;01mif\u001b[39;00m \u001b[38;5;28mhasattr\u001b[39m(resolver, \u001b[38;5;124m'\u001b[39m\u001b[38;5;124mresolve\u001b[39m\u001b[38;5;124m'\u001b[39m):\n\u001b[0;32m     45\u001b[0m     \u001b[38;5;66;03m# dnspython >= 2\u001b[39;00m\n\u001b[1;32m---> 46\u001b[0m     \u001b[38;5;28;01mreturn\u001b[39;00m \u001b[43mresolver\u001b[49m\u001b[38;5;241;43m.\u001b[39;49m\u001b[43mresolve\u001b[49m\u001b[43m(\u001b[49m\u001b[38;5;241;43m*\u001b[39;49m\u001b[43margs\u001b[49m\u001b[43m,\u001b[49m\u001b[43m \u001b[49m\u001b[38;5;241;43m*\u001b[39;49m\u001b[38;5;241;43m*\u001b[39;49m\u001b[43mkwargs\u001b[49m\u001b[43m)\u001b[49m\n\u001b[0;32m     47\u001b[0m \u001b[38;5;66;03m# dnspython 1.X\u001b[39;00m\n",
      "File \u001b[1;32mD:\\Anaconda\\lib\\site-packages\\dns\\resolver.py:1193\u001b[0m, in \u001b[0;36mresolve\u001b[1;34m(qname, rdtype, rdclass, tcp, source, raise_on_no_answer, source_port, lifetime, search)\u001b[0m\n\u001b[0;32m   1184\u001b[0m \u001b[38;5;124;03m\"\"\"Query nameservers to find the answer to the question.\u001b[39;00m\n\u001b[0;32m   1185\u001b[0m \n\u001b[0;32m   1186\u001b[0m \u001b[38;5;124;03mThis is a convenience function that uses the default resolver\u001b[39;00m\n\u001b[1;32m   (...)\u001b[0m\n\u001b[0;32m   1190\u001b[0m \u001b[38;5;124;03mparameters.\u001b[39;00m\n\u001b[0;32m   1191\u001b[0m \u001b[38;5;124;03m\"\"\"\u001b[39;00m\n\u001b[1;32m-> 1193\u001b[0m \u001b[38;5;28;01mreturn\u001b[39;00m \u001b[43mget_default_resolver\u001b[49m\u001b[43m(\u001b[49m\u001b[43m)\u001b[49m\u001b[38;5;241;43m.\u001b[39;49m\u001b[43mresolve\u001b[49m\u001b[43m(\u001b[49m\u001b[43mqname\u001b[49m\u001b[43m,\u001b[49m\u001b[43m \u001b[49m\u001b[43mrdtype\u001b[49m\u001b[43m,\u001b[49m\u001b[43m \u001b[49m\u001b[43mrdclass\u001b[49m\u001b[43m,\u001b[49m\u001b[43m \u001b[49m\u001b[43mtcp\u001b[49m\u001b[43m,\u001b[49m\u001b[43m \u001b[49m\u001b[43msource\u001b[49m\u001b[43m,\u001b[49m\n\u001b[0;32m   1194\u001b[0m \u001b[43m                                      \u001b[49m\u001b[43mraise_on_no_answer\u001b[49m\u001b[43m,\u001b[49m\u001b[43m \u001b[49m\u001b[43msource_port\u001b[49m\u001b[43m,\u001b[49m\n\u001b[0;32m   1195\u001b[0m \u001b[43m                                      \u001b[49m\u001b[43mlifetime\u001b[49m\u001b[43m,\u001b[49m\u001b[43m \u001b[49m\u001b[43msearch\u001b[49m\u001b[43m)\u001b[49m\n",
      "File \u001b[1;32mD:\\Anaconda\\lib\\site-packages\\dns\\resolver.py:1053\u001b[0m, in \u001b[0;36mResolver.resolve\u001b[1;34m(self, qname, rdtype, rdclass, tcp, source, raise_on_no_answer, source_port, lifetime, search)\u001b[0m\n\u001b[0;32m   1052\u001b[0m \u001b[38;5;28;01mwhile\u001b[39;00m \u001b[38;5;28;01mTrue\u001b[39;00m:\n\u001b[1;32m-> 1053\u001b[0m     (request, answer) \u001b[38;5;241m=\u001b[39m \u001b[43mresolution\u001b[49m\u001b[38;5;241;43m.\u001b[39;49m\u001b[43mnext_request\u001b[49m\u001b[43m(\u001b[49m\u001b[43m)\u001b[49m\n\u001b[0;32m   1054\u001b[0m     \u001b[38;5;66;03m# Note we need to say \"if answer is not None\" and not just\u001b[39;00m\n\u001b[0;32m   1055\u001b[0m     \u001b[38;5;66;03m# \"if answer\" because answer implements __len__, and python\u001b[39;00m\n\u001b[0;32m   1056\u001b[0m     \u001b[38;5;66;03m# will call that.  We want to return if we have an answer\u001b[39;00m\n\u001b[0;32m   1057\u001b[0m     \u001b[38;5;66;03m# object, including in cases where its length is 0.\u001b[39;00m\n",
      "File \u001b[1;32mD:\\Anaconda\\lib\\site-packages\\dns\\resolver.py:632\u001b[0m, in \u001b[0;36m_Resolution.next_request\u001b[1;34m(self)\u001b[0m\n\u001b[0;32m    627\u001b[0m \u001b[38;5;66;03m#\u001b[39;00m\n\u001b[0;32m    628\u001b[0m \u001b[38;5;66;03m# We've tried everything and only gotten NXDOMAINs.  (We know\u001b[39;00m\n\u001b[0;32m    629\u001b[0m \u001b[38;5;66;03m# it's only NXDOMAINs as anything else would have returned\u001b[39;00m\n\u001b[0;32m    630\u001b[0m \u001b[38;5;66;03m# before now.)\u001b[39;00m\n\u001b[0;32m    631\u001b[0m \u001b[38;5;66;03m#\u001b[39;00m\n\u001b[1;32m--> 632\u001b[0m \u001b[38;5;28;01mraise\u001b[39;00m NXDOMAIN(qnames\u001b[38;5;241m=\u001b[39m\u001b[38;5;28mself\u001b[39m\u001b[38;5;241m.\u001b[39mqnames_to_try,\n\u001b[0;32m    633\u001b[0m                responses\u001b[38;5;241m=\u001b[39m\u001b[38;5;28mself\u001b[39m\u001b[38;5;241m.\u001b[39mnxdomain_responses)\n",
      "\u001b[1;31mNXDOMAIN\u001b[0m: The DNS query name does not exist: _mongodb._tcp.cluster0.h8zw1nd.mongodb.net.",
      "\nDuring handling of the above exception, another exception occurred:\n",
      "\u001b[1;31mConfigurationError\u001b[0m                        Traceback (most recent call last)",
      "Input \u001b[1;32mIn [6]\u001b[0m, in \u001b[0;36m<cell line: 15>\u001b[1;34m()\u001b[0m\n\u001b[0;32m     10\u001b[0m     mongo_client \u001b[38;5;241m=\u001b[39m MongoClient(database_connection_string)\n\u001b[0;32m     12\u001b[0m     \u001b[38;5;28;01mreturn\u001b[39;00m mongo_client[\u001b[38;5;124m'\u001b[39m\u001b[38;5;124msample_database\u001b[39m\u001b[38;5;124m'\u001b[39m]\n\u001b[1;32m---> 15\u001b[0m \u001b[43mconnect_to_atlas\u001b[49m\u001b[43m(\u001b[49m\u001b[43m)\u001b[49m\n",
      "Input \u001b[1;32mIn [6]\u001b[0m, in \u001b[0;36mconnect_to_atlas\u001b[1;34m()\u001b[0m\n\u001b[0;32m      7\u001b[0m database_connection_string \u001b[38;5;241m=\u001b[39m \u001b[38;5;124m\"\u001b[39m\u001b[38;5;124mmongodb+srv://admin:<admin>@cluster0.h8zw1nd.mongodb.net/test\u001b[39m\u001b[38;5;124m\"\u001b[39m\n\u001b[0;32m      9\u001b[0m \u001b[38;5;66;03m# create a connection with the cluster we created at Mongodb atlas\u001b[39;00m\n\u001b[1;32m---> 10\u001b[0m mongo_client \u001b[38;5;241m=\u001b[39m \u001b[43mMongoClient\u001b[49m\u001b[43m(\u001b[49m\u001b[43mdatabase_connection_string\u001b[49m\u001b[43m)\u001b[49m\n\u001b[0;32m     12\u001b[0m \u001b[38;5;28;01mreturn\u001b[39;00m mongo_client[\u001b[38;5;124m'\u001b[39m\u001b[38;5;124msample_database\u001b[39m\u001b[38;5;124m'\u001b[39m]\n",
      "File \u001b[1;32mD:\\Anaconda\\lib\\site-packages\\pymongo\\mongo_client.py:670\u001b[0m, in \u001b[0;36mMongoClient.__init__\u001b[1;34m(self, host, port, document_class, tz_aware, connect, type_registry, **kwargs)\u001b[0m\n\u001b[0;32m    667\u001b[0m \u001b[38;5;28;01mif\u001b[39;00m timeout \u001b[38;5;129;01mis\u001b[39;00m \u001b[38;5;129;01mnot\u001b[39;00m \u001b[38;5;28;01mNone\u001b[39;00m:\n\u001b[0;32m    668\u001b[0m     timeout \u001b[38;5;241m=\u001b[39m common\u001b[38;5;241m.\u001b[39mvalidate_timeout_or_none_or_zero(\n\u001b[0;32m    669\u001b[0m         keyword_opts\u001b[38;5;241m.\u001b[39mcased_key(\u001b[38;5;124m\"\u001b[39m\u001b[38;5;124mconnecttimeoutms\u001b[39m\u001b[38;5;124m\"\u001b[39m), timeout)\n\u001b[1;32m--> 670\u001b[0m res \u001b[38;5;241m=\u001b[39m \u001b[43muri_parser\u001b[49m\u001b[38;5;241;43m.\u001b[39;49m\u001b[43mparse_uri\u001b[49m\u001b[43m(\u001b[49m\n\u001b[0;32m    671\u001b[0m \u001b[43m    \u001b[49m\u001b[43mentity\u001b[49m\u001b[43m,\u001b[49m\u001b[43m \u001b[49m\u001b[43mport\u001b[49m\u001b[43m,\u001b[49m\u001b[43m \u001b[49m\u001b[43mvalidate\u001b[49m\u001b[38;5;241;43m=\u001b[39;49m\u001b[38;5;28;43;01mTrue\u001b[39;49;00m\u001b[43m,\u001b[49m\u001b[43m \u001b[49m\u001b[43mwarn\u001b[49m\u001b[38;5;241;43m=\u001b[39;49m\u001b[38;5;28;43;01mTrue\u001b[39;49;00m\u001b[43m,\u001b[49m\u001b[43m \u001b[49m\u001b[43mnormalize\u001b[49m\u001b[38;5;241;43m=\u001b[39;49m\u001b[38;5;28;43;01mFalse\u001b[39;49;00m\u001b[43m,\u001b[49m\n\u001b[0;32m    672\u001b[0m \u001b[43m    \u001b[49m\u001b[43mconnect_timeout\u001b[49m\u001b[38;5;241;43m=\u001b[39;49m\u001b[43mtimeout\u001b[49m\u001b[43m)\u001b[49m\n\u001b[0;32m    673\u001b[0m seeds\u001b[38;5;241m.\u001b[39mupdate(res[\u001b[38;5;124m\"\u001b[39m\u001b[38;5;124mnodelist\u001b[39m\u001b[38;5;124m\"\u001b[39m])\n\u001b[0;32m    674\u001b[0m username \u001b[38;5;241m=\u001b[39m res[\u001b[38;5;124m\"\u001b[39m\u001b[38;5;124musername\u001b[39m\u001b[38;5;124m\"\u001b[39m] \u001b[38;5;129;01mor\u001b[39;00m username\n",
      "File \u001b[1;32mD:\\Anaconda\\lib\\site-packages\\pymongo\\uri_parser.py:524\u001b[0m, in \u001b[0;36mparse_uri\u001b[1;34m(uri, default_port, validate, warn, normalize, connect_timeout)\u001b[0m\n\u001b[0;32m    522\u001b[0m connect_timeout \u001b[38;5;241m=\u001b[39m connect_timeout \u001b[38;5;129;01mor\u001b[39;00m options\u001b[38;5;241m.\u001b[39mget(\u001b[38;5;124m\"\u001b[39m\u001b[38;5;124mconnectTimeoutMS\u001b[39m\u001b[38;5;124m\"\u001b[39m)\n\u001b[0;32m    523\u001b[0m dns_resolver \u001b[38;5;241m=\u001b[39m _SrvResolver(fqdn, connect_timeout\u001b[38;5;241m=\u001b[39mconnect_timeout)\n\u001b[1;32m--> 524\u001b[0m nodes \u001b[38;5;241m=\u001b[39m \u001b[43mdns_resolver\u001b[49m\u001b[38;5;241;43m.\u001b[39;49m\u001b[43mget_hosts\u001b[49m\u001b[43m(\u001b[49m\u001b[43m)\u001b[49m\n\u001b[0;32m    525\u001b[0m dns_options \u001b[38;5;241m=\u001b[39m dns_resolver\u001b[38;5;241m.\u001b[39mget_options()\n\u001b[0;32m    526\u001b[0m \u001b[38;5;28;01mif\u001b[39;00m dns_options:\n",
      "File \u001b[1;32mD:\\Anaconda\\lib\\site-packages\\pymongo\\srv_resolver.py:118\u001b[0m, in \u001b[0;36m_SrvResolver.get_hosts\u001b[1;34m(self)\u001b[0m\n\u001b[0;32m    117\u001b[0m \u001b[38;5;28;01mdef\u001b[39;00m \u001b[38;5;21mget_hosts\u001b[39m(\u001b[38;5;28mself\u001b[39m):\n\u001b[1;32m--> 118\u001b[0m     _, nodes \u001b[38;5;241m=\u001b[39m \u001b[38;5;28;43mself\u001b[39;49m\u001b[38;5;241;43m.\u001b[39;49m\u001b[43m_get_srv_response_and_hosts\u001b[49m\u001b[43m(\u001b[49m\u001b[38;5;28;43;01mTrue\u001b[39;49;00m\u001b[43m)\u001b[49m\n\u001b[0;32m    119\u001b[0m     \u001b[38;5;28;01mreturn\u001b[39;00m nodes\n",
      "File \u001b[1;32mD:\\Anaconda\\lib\\site-packages\\pymongo\\srv_resolver.py:99\u001b[0m, in \u001b[0;36m_SrvResolver._get_srv_response_and_hosts\u001b[1;34m(self, encapsulate_errors)\u001b[0m\n\u001b[0;32m     98\u001b[0m \u001b[38;5;28;01mdef\u001b[39;00m \u001b[38;5;21m_get_srv_response_and_hosts\u001b[39m(\u001b[38;5;28mself\u001b[39m, encapsulate_errors):\n\u001b[1;32m---> 99\u001b[0m     results \u001b[38;5;241m=\u001b[39m \u001b[38;5;28;43mself\u001b[39;49m\u001b[38;5;241;43m.\u001b[39;49m\u001b[43m_resolve_uri\u001b[49m\u001b[43m(\u001b[49m\u001b[43mencapsulate_errors\u001b[49m\u001b[43m)\u001b[49m\n\u001b[0;32m    101\u001b[0m     \u001b[38;5;66;03m# Construct address tuples\u001b[39;00m\n\u001b[0;32m    102\u001b[0m     nodes \u001b[38;5;241m=\u001b[39m [\n\u001b[0;32m    103\u001b[0m         (maybe_decode(res\u001b[38;5;241m.\u001b[39mtarget\u001b[38;5;241m.\u001b[39mto_text(omit_final_dot\u001b[38;5;241m=\u001b[39m\u001b[38;5;28;01mTrue\u001b[39;00m)), res\u001b[38;5;241m.\u001b[39mport)\n\u001b[0;32m    104\u001b[0m         \u001b[38;5;28;01mfor\u001b[39;00m res \u001b[38;5;129;01min\u001b[39;00m results]\n",
      "File \u001b[1;32mD:\\Anaconda\\lib\\site-packages\\pymongo\\srv_resolver.py:95\u001b[0m, in \u001b[0;36m_SrvResolver._resolve_uri\u001b[1;34m(self, encapsulate_errors)\u001b[0m\n\u001b[0;32m     93\u001b[0m         \u001b[38;5;28;01mraise\u001b[39;00m\n\u001b[0;32m     94\u001b[0m     \u001b[38;5;66;03m# Else, raise all errors as ConfigurationError.\u001b[39;00m\n\u001b[1;32m---> 95\u001b[0m     \u001b[38;5;28;01mraise\u001b[39;00m ConfigurationError(\u001b[38;5;28mstr\u001b[39m(exc))\n\u001b[0;32m     96\u001b[0m \u001b[38;5;28;01mreturn\u001b[39;00m results\n",
      "\u001b[1;31mConfigurationError\u001b[0m: The DNS query name does not exist: _mongodb._tcp.cluster0.h8zw1nd.mongodb.net."
     ]
    }
   ],
   "source": [
    "# Creating the mongodb cluster with the necessary configurations\n",
    "\n",
    "def connect_to_atlas():\n",
    "    \n",
    "    # defining the connection address to the database\n",
    "    # this string is usually available when we create the cluster at mongodb atlas\n",
    "    database_connection_string = \"mongodb+srv://admin:<password>@samplecluster.otsv5xr.mongodb.net/test\"\n",
    "    \n",
    "    # create a connection with the cluster we created at Mongodb atlas\n",
    "    mongo_client = MongoClient(database_connection_string)\n",
    "    \n",
    "    return mongo_client['sample_database']\n",
    "\n",
    "\n",
    "connect_to_atlas()"
   ]
  },
  {
   "cell_type": "code",
   "execution_count": null,
   "id": "a3d657a1",
   "metadata": {},
   "outputs": [],
   "source": [
    "# Connecting to the cluster we just created\n",
    "def connect_to_cluster():\n",
    "    pass\n",
    "\n",
    "\n",
    "connect_to_cluster()"
   ]
  }
 ],
 "metadata": {
  "kernelspec": {
   "display_name": "Python 3 (ipykernel)",
   "language": "python",
   "name": "python3"
  },
  "language_info": {
   "codemirror_mode": {
    "name": "ipython",
    "version": 3
   },
   "file_extension": ".py",
   "mimetype": "text/x-python",
   "name": "python",
   "nbconvert_exporter": "python",
   "pygments_lexer": "ipython3",
   "version": "3.8.8"
  }
 },
 "nbformat": 4,
 "nbformat_minor": 5
}
