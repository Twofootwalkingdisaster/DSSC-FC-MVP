{
 "cells": [
  {
   "cell_type": "code",
   "execution_count": 13,
   "metadata": {},
   "outputs": [],
   "source": [
    "import datetime as dt\n",
    "from datetime import timedelta\n",
    "import boto3\n",
    "import pandas as pd\n",
    "import os\n",
    "from io import BytesIO\n",
    "import json\n"
   ]
  },
  {
   "cell_type": "code",
   "execution_count": 14,
   "metadata": {},
   "outputs": [
    {
     "ename": "FileNotFoundError",
     "evalue": "[Errno 2] No such file or directory: 'DSSC-FC-MVP-Configuration.json'",
     "output_type": "error",
     "traceback": [
      "\u001b[1;31m---------------------------------------------------------------------------\u001b[0m",
      "\u001b[1;31mFileNotFoundError\u001b[0m                         Traceback (most recent call last)",
      "\u001b[1;32mc:\\Users\\jcp95\\OneDrive\\Documents\\desk\\sem 2\\DSSC-FC-MVP\\Financial Consultation Project\\Visualisation_code.ipynb Cell 2\u001b[0m in \u001b[0;36m<cell line: 1>\u001b[1;34m()\u001b[0m\n\u001b[1;32m----> <a href='vscode-notebook-cell:/c%3A/Users/jcp95/OneDrive/Documents/desk/sem%202/DSSC-FC-MVP/Financial%20Consultation%20Project/Visualisation_code.ipynb#W3sZmlsZQ%3D%3D?line=0'>1</a>\u001b[0m \u001b[39mwith\u001b[39;00m \u001b[39mopen\u001b[39;49m(\u001b[39m'\u001b[39;49m\u001b[39mDSSC-FC-MVP-Configuration.json\u001b[39;49m\u001b[39m'\u001b[39;49m, \u001b[39m'\u001b[39;49m\u001b[39mr\u001b[39;49m\u001b[39m'\u001b[39;49m) \u001b[39mas\u001b[39;00m openfile:\n\u001b[0;32m      <a href='vscode-notebook-cell:/c%3A/Users/jcp95/OneDrive/Documents/desk/sem%202/DSSC-FC-MVP/Financial%20Consultation%20Project/Visualisation_code.ipynb#W3sZmlsZQ%3D%3D?line=1'>2</a>\u001b[0m     json_object \u001b[39m=\u001b[39m json\u001b[39m.\u001b[39mload(openfile)\n",
      "\u001b[1;31mFileNotFoundError\u001b[0m: [Errno 2] No such file or directory: 'DSSC-FC-MVP-Configuration.json'"
     ]
    }
   ],
   "source": [
    "with open('DSSC-FC-MVP-Configuration.json', 'r') as openfile:\n",
    "    json_object = json.load(openfile)"
   ]
  },
  {
   "cell_type": "code",
   "execution_count": null,
   "metadata": {},
   "outputs": [
    {
     "ename": "NameError",
     "evalue": "name 'json_object' is not defined",
     "output_type": "error",
     "traceback": [
      "\u001b[1;31m---------------------------------------------------------------------------\u001b[0m",
      "\u001b[1;31mNameError\u001b[0m                                 Traceback (most recent call last)",
      "\u001b[1;32mc:\\Users\\jcp95\\OneDrive\\Documents\\desk\\sem 2\\DSSC-FC-MVP\\Financial Consultation Project\\Visualisation_code.ipynb Cell 3\u001b[0m in \u001b[0;36m<cell line: 2>\u001b[1;34m()\u001b[0m\n\u001b[0;32m      <a href='vscode-notebook-cell:/c%3A/Users/jcp95/OneDrive/Documents/desk/sem%202/DSSC-FC-MVP/Financial%20Consultation%20Project/Visualisation_code.ipynb#W4sZmlsZQ%3D%3D?line=0'>1</a>\u001b[0m \u001b[39m# json_object\u001b[39;00m\n\u001b[1;32m----> <a href='vscode-notebook-cell:/c%3A/Users/jcp95/OneDrive/Documents/desk/sem%202/DSSC-FC-MVP/Financial%20Consultation%20Project/Visualisation_code.ipynb#W4sZmlsZQ%3D%3D?line=1'>2</a>\u001b[0m client \u001b[39m=\u001b[39m boto3\u001b[39m.\u001b[39mclient(\u001b[39m'\u001b[39m\u001b[39ms3\u001b[39m\u001b[39m'\u001b[39m,aws_access_key_id\u001b[39m=\u001b[39mjson_object[\u001b[39m'\u001b[39m\u001b[39maws_access_key_id\u001b[39m\u001b[39m'\u001b[39m],\n\u001b[0;32m      <a href='vscode-notebook-cell:/c%3A/Users/jcp95/OneDrive/Documents/desk/sem%202/DSSC-FC-MVP/Financial%20Consultation%20Project/Visualisation_code.ipynb#W4sZmlsZQ%3D%3D?line=2'>3</a>\u001b[0m                           aws_secret_access_key\u001b[39m=\u001b[39mjson_object[\u001b[39m'\u001b[39m\u001b[39maws_secret_access_key\u001b[39m\u001b[39m'\u001b[39m])\n",
      "\u001b[1;31mNameError\u001b[0m: name 'json_object' is not defined"
     ]
    }
   ],
   "source": [
    "# json_object\n",
    "client = boto3.client('s3',aws_access_key_id=json_object['aws_access_key_id'],\n",
    "                          aws_secret_access_key=json_object['aws_secret_access_key'])"
   ]
  },
  {
   "cell_type": "code",
   "execution_count": null,
   "metadata": {},
   "outputs": [],
   "source": [
    "# Find all the csv file in the current directory and get the file and store it to bucket one by one\n",
    "for file in os.listdir():\n",
    "    if '.csv' in file:\n",
    "        upload_file_bucket = 'dssc-fc-mvp'\n",
    "        upload_file_key = 'data-collection/' + str(file)\n",
    "        client.upload_file(file,\n",
    "                           upload_file_bucket,\n",
    "                           upload_file_key)"
   ]
  },
  {
   "cell_type": "code",
   "execution_count": null,
   "metadata": {},
   "outputs": [],
   "source": [
    "# Created the function which connects the code with AWS S3 and \n",
    "# take the input as company name and gives us the data of that comapny \n",
    "# which we have already stored in S3 bucket\n",
    "def get_file(company_name):\n",
    "    client = boto3.client('s3',\n",
    "                          aws_access_key_id=json_object['aws_access_key_id'],\n",
    "                          aws_secret_access_key=json_object['aws_secret_access_key'])\n",
    "    file = client.get_object(Bucket='dssc-fc-mvp',\n",
    "                             Key='data-collection/'+ company_name +'_data.csv')\n",
    "    read_file = file['Body'].read()\n",
    "    read_file_csv = pd.read_csv(BytesIO(read_file))\n",
    "    \n",
    "    return read_file_csv"
   ]
  },
  {
   "cell_type": "markdown",
   "metadata": {},
   "source": [
    "Alphabet Data: Alphabet,\n",
    "Apple Data: Apple,\n",
    "IBM Data: IBM,\n",
    "Microsoft Data: Microsoft,\n",
    "Meta Data: Meta,\n",
    "Royal Bank of Canada Data: RBC,\n",
    "Bank of Nova Scotia Data: Scotia,\n",
    "Bank of Montreal Data: BMO,\n",
    "Taiwan Semiconductor Manufacturing Data: TSM,\n",
    "Nvidia Data: Nvidia,\n",
    "Texas Instruments Data: TXN,\n",
    "Oracle Data: Oracle,\n",
    "Cisco Data: Cisco,\n",
    "Verizon Communications Data: VZ"
   ]
  },
  {
   "cell_type": "markdown",
   "metadata": {},
   "source": [
    "Input1 = input('Type Ticker Name:')"
   ]
  },
  {
   "cell_type": "code",
   "execution_count": null,
   "metadata": {},
   "outputs": [
    {
     "ename": "NameError",
     "evalue": "name 'Input1' is not defined",
     "output_type": "error",
     "traceback": [
      "\u001b[1;31m---------------------------------------------------------------------------\u001b[0m",
      "\u001b[1;31mNameError\u001b[0m                                 Traceback (most recent call last)",
      "\u001b[1;32mc:\\Users\\jcp95\\OneDrive\\Documents\\desk\\sem 2\\DSSC-FC-MVP\\Financial Consultation Project\\Visualisation_code.ipynb Cell 8\u001b[0m in \u001b[0;36m<cell line: 1>\u001b[1;34m()\u001b[0m\n\u001b[1;32m----> <a href='vscode-notebook-cell:/c%3A/Users/jcp95/OneDrive/Documents/desk/sem%202/DSSC-FC-MVP/Financial%20Consultation%20Project/Visualisation_code.ipynb#X13sZmlsZQ%3D%3D?line=0'>1</a>\u001b[0m data \u001b[39m=\u001b[39m get_file(Input1)\n",
      "\u001b[1;31mNameError\u001b[0m: name 'Input1' is not defined"
     ]
    }
   ],
   "source": [
    "data = get_file(Input1)"
   ]
  },
  {
   "cell_type": "code",
   "execution_count": null,
   "metadata": {},
   "outputs": [],
   "source": [
    "data.isnull().sum()"
   ]
  },
  {
   "cell_type": "code",
   "execution_count": null,
   "metadata": {},
   "outputs": [],
   "source": [
    "data.describe()"
   ]
  },
  {
   "cell_type": "code",
   "execution_count": null,
   "metadata": {},
   "outputs": [],
   "source": [
    "data.rename(columns = {'Unnamed: 0':'DateTime'}, inplace = True)"
   ]
  },
  {
   "cell_type": "code",
   "execution_count": null,
   "metadata": {},
   "outputs": [],
   "source": [
    "data.info()"
   ]
  },
  {
   "cell_type": "code",
   "execution_count": null,
   "metadata": {},
   "outputs": [],
   "source": [
    "import pygal\n",
    "box_plot = pygal.Box()\n",
    "box_plot.title = 'V8 benchmark results'\n",
    "box_plot.add('Open', data['Open'])\n",
    "box_plot.add('Close', data['Close'])\n",
    "box_plot.add('Volume', data['Volume'])\n",
    "box_plot.render_in_browser()"
   ]
  },
  {
   "cell_type": "code",
   "execution_count": null,
   "metadata": {},
   "outputs": [],
   "source": [
    "import plotly.graph_objects as go\n",
    "\n",
    "fig = go.Figure(data=go.Scatter(x=data['DateTime'],y=data['Open'], mode='lines'))\n",
    "figure.update_layout(title = \"Stock Price Analysis\",\n",
    "                     xaxis_rangeslider_visible= True)\n",
    "figure.update_xaxes(\n",
    "    rangeselector=dict(\n",
    "        buttons=list([\n",
    "            dict(count=10, label=\"1h\", step=\"hour\", stepmode=\"backward\"),\n",
    "            dict(count=10, label=\"1d\", step=\"day\", stepmode=\"backward\"),\n",
    "            dict(count=1, label=\"1m\", step=\"month\", stepmode=\"backward\"),\n",
    "            dict(count=3, label=\"3m\", step=\"month\", stepmode=\"backward\"),\n",
    "            dict(count=6, label=\"6m\", step=\"month\", stepmode=\"backward\"),\n",
    "            dict(count=1, label=\"1y\", step=\"year\", stepmode=\"backward\"),\n",
    "            dict(step=\"all\")\n",
    "        ])\n",
    "    )\n",
    ")\n",
    "fig.show()"
   ]
  },
  {
   "cell_type": "code",
   "execution_count": null,
   "metadata": {},
   "outputs": [],
   "source": [
    "figure = go.Figure(data=[go.Candlestick(x=data[\"DateTime\"],\n",
    "                                        open=data[\"Open\"], high=data[\"High\"],\n",
    "                                        low=data[\"Low\"], close=data[\"Close\"])])\n",
    "figure.update_layout(title = \"Stock Price Analysis\",\n",
    "                     xaxis_rangeslider_visible=False)\n",
    "figure.update_xaxes(\n",
    "    rangeselector=dict(\n",
    "        buttons=list([\n",
    "            dict(count=10, label=\"1h\", step=\"hour\", stepmode=\"backward\"),\n",
    "            dict(count=10, label=\"1d\", step=\"day\", stepmode=\"backward\"),\n",
    "            dict(count=1, label=\"1m\", step=\"month\", stepmode=\"backward\"),\n",
    "            dict(count=3, label=\"3m\", step=\"month\", stepmode=\"backward\"),\n",
    "            dict(count=6, label=\"6m\", step=\"month\", stepmode=\"backward\"),\n",
    "            dict(count=1, label=\"1y\", step=\"year\", stepmode=\"backward\"),\n",
    "            dict(step=\"all\")\n",
    "        ])\n",
    "    )\n",
    ")\n",
    "\n",
    "figure.show()"
   ]
  },
  {
   "cell_type": "code",
   "execution_count": null,
   "metadata": {},
   "outputs": [],
   "source": [
    "figure.update_layout(title = \"Stock Price Analysis\",\n",
    "                     xaxis_rangeslider_visible=False)\n",
    "figure.update_xaxes(\n",
    "    rangeselector=dict(\n",
    "        buttons=list([\n",
    "            dict(count=10, label=\"1h\", step=\"hour\", stepmode=\"backward\"),\n",
    "            dict(count=10, label=\"1d\", step=\"day\", stepmode=\"backward\"),\n",
    "            dict(count=1, label=\"1m\", step=\"month\", stepmode=\"backward\"),\n",
    "            dict(count=3, label=\"3m\", step=\"month\", stepmode=\"backward\"),\n",
    "            dict(count=6, label=\"6m\", step=\"month\", stepmode=\"backward\"),\n",
    "            dict(count=1, label=\"1y\", step=\"year\", stepmode=\"backward\"),\n",
    "            dict(step=\"all\")\n",
    "        ])\n",
    "    )\n",
    ")\n",
    "\n",
    "\n",
    "fig.update_layout(\n",
    "title='Stock Analysis',\n",
    "yaxis_title=f'Stock'\n",
    ")\n",
    "figure.show()"
   ]
  },
  {
   "cell_type": "code",
   "execution_count": null,
   "metadata": {},
   "outputs": [],
   "source": [
    "fig = go.Figure(data=[go.Candlestick(x=data['DateTime'], open=data['Open'], high=data['High'], low=data['Low'], close=data['Close'])])\n",
    "fig.update_xaxes(\n",
    "    rangeslider_visible=True,\n",
    "    rangebreaks=[\n",
    "        # NOTE: Below values are bound (not single values), ie. hide x to y\n",
    "        dict(bounds=[\"sat\", \"mon\"]),  # hide weekends, eg. hide sat to before mon\n",
    "        dict(bounds=[16, 9.5], pattern=\"hour\"),  # hide hours outside of 9.30am-4pm\n",
    "        # dict(values=[\"2019-12-25\", \"2020-12-24\"])  # hide holidays (Christmas and New Year's, etc)\n",
    "    ]\n",
    ")\n",
    "fig.update_layout(\n",
    "title='Stock Analysis',\n",
    "yaxis_title=f'Stock'\n",
    ")\n",
    "\n",
    "fig.show()"
   ]
  },
  {
   "cell_type": "code",
   "execution_count": null,
   "metadata": {},
   "outputs": [],
   "source": [
    "# Make a Pygal chart\n",
    "line_chart = pygal.Line(x_label_rotation=False)\n",
    " \n",
    "# add a title\n",
    "line_chart.title = \"Random Data\"\n",
    " \n",
    "# add the data\n",
    "line_chart.x_labels =(data['DateTime'])\n",
    "\n",
    "line_chart.add('Close', data['Close'])\n",
    "\n",
    " \n",
    "# Render the chart    \n",
    "line_chart.render_in_browser()"
   ]
  }
 ],
 "metadata": {
  "kernelspec": {
   "display_name": "Python 3.10.4 64-bit",
   "language": "python",
   "name": "python3"
  },
  "language_info": {
   "codemirror_mode": {
    "name": "ipython",
    "version": 3
   },
   "file_extension": ".py",
   "mimetype": "text/x-python",
   "name": "python",
   "nbconvert_exporter": "python",
   "pygments_lexer": "ipython3",
   "version": "3.10.4"
  },
  "orig_nbformat": 4,
  "vscode": {
   "interpreter": {
    "hash": "de044f1383a80457b563c9ba588bcd3da1c75ffa6757076e681c53641d657489"
   }
  }
 },
 "nbformat": 4,
 "nbformat_minor": 2
}
