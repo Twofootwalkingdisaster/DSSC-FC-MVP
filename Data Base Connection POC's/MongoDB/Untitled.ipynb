{
 "cells": [
  {
   "cell_type": "code",
   "execution_count": 4,
   "id": "8d5cebb9",
   "metadata": {},
   "outputs": [],
   "source": [
    "# Importing the mongoclient, this library has the complete connection based functions and attributes\n",
    "from pymongo import MongoClient\n",
    "\n",
    "# Importing the mon"
   ]
  },
  {
   "cell_type": "code",
   "execution_count": 7,
   "id": "f99cfc0b",
   "metadata": {},
   "outputs": [
    {
     "data": {
      "text/plain": [
       "Database(MongoClient(host=['ac-qmo2p9p-shard-00-00.otsv5xr.mongodb.net:27017', 'ac-qmo2p9p-shard-00-02.otsv5xr.mongodb.net:27017', 'ac-qmo2p9p-shard-00-01.otsv5xr.mongodb.net:27017'], document_class=dict, tz_aware=False, connect=True, authsource='admin', replicaset='atlas-xbeygz-shard-0', ssl=True), 'sample_database')"
      ]
     },
     "execution_count": 7,
     "metadata": {},
     "output_type": "execute_result"
    }
   ],
   "source": [
    "# Creating the mongodb cluster with the necessary configurations\n",
    "\n",
    "def connect_to_atlas():\n",
    "    \n",
    "    # defining the connection address to the database\n",
    "    # this string is usually available when we create the cluster at mongodb atlas\n",
    "    database_connection_string = \"mongodb+srv://admin:<password>@samplecluster.otsv5xr.mongodb.net/test\"\n",
    "    \n",
    "    # create a connection with the cluster we created at Mongodb atlas\n",
    "    mongo_client = MongoClient(database_connection_string)\n",
    "    \n",
    "    return mongo_client['sample_database']\n",
    "\n",
    "\n",
    "connect_to_atlas()"
   ]
  },
  {
   "cell_type": "code",
   "execution_count": null,
   "id": "ea4174c3",
   "metadata": {},
   "outputs": [],
   "source": [
    "# Connecting to the cluster we just created\n",
    "def connect_to_cluster():\n",
    "    pass\n",
    "\n",
    "\n",
    "connect_to_cluster()"
   ]
  }
 ],
 "metadata": {
  "kernelspec": {
   "display_name": "Python 3 (ipykernel)",
   "language": "python",
   "name": "python3"
  },
  "language_info": {
   "codemirror_mode": {
    "name": "ipython",
    "version": 3
   },
   "file_extension": ".py",
   "mimetype": "text/x-python",
   "name": "python",
   "nbconvert_exporter": "python",
   "pygments_lexer": "ipython3",
   "version": "3.8.8"
  }
 },
 "nbformat": 4,
 "nbformat_minor": 5
}
